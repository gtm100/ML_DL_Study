{
 "cells": [
  {
   "cell_type": "markdown",
   "id": "5028727a-1b58-48e1-a597-7a2cc08b2545",
   "metadata": {},
   "source": [
    "## Essential Guide to NumPy for machine learning in Python\n",
    "Numpy is a a library for the python programming language, adding supports for large multi-dimensional array and martics, along with large collection of high level mathematical function to operate on these array."
   ]
  },
  {
   "cell_type": "code",
   "execution_count": 1,
   "id": "48c7feba-8618-4647-9f93-723f5e44ac8e",
   "metadata": {},
   "outputs": [],
   "source": [
    "import numpy as np"
   ]
  },
  {
   "cell_type": "markdown",
   "id": "ca457eb6-91e5-4fa0-8aac-e0f89d042468",
   "metadata": {},
   "source": [
    "## 1. Creating a Vector"
   ]
  },
  {
   "cell_type": "code",
   "execution_count": 2,
   "id": "711162c0-370d-42f0-b563-057558ef627f",
   "metadata": {},
   "outputs": [],
   "source": [
    "vector_row = np.array([1, 2, 3])\n",
    "vector_column = np.array([[1], [2], [3]])"
   ]
  },
  {
   "cell_type": "code",
   "execution_count": 3,
   "id": "66d7d317-5926-4d7b-b481-dd236f277d23",
   "metadata": {},
   "outputs": [
    {
     "data": {
      "text/plain": [
       "array([1, 2, 3])"
      ]
     },
     "execution_count": 3,
     "metadata": {},
     "output_type": "execute_result"
    }
   ],
   "source": [
    "vector_row"
   ]
  },
  {
   "cell_type": "code",
   "execution_count": 4,
   "id": "9c80080b-a33a-4a13-a577-f21a530fab29",
   "metadata": {},
   "outputs": [
    {
     "data": {
      "text/plain": [
       "array([[1],\n",
       "       [2],\n",
       "       [3]])"
      ]
     },
     "execution_count": 4,
     "metadata": {},
     "output_type": "execute_result"
    }
   ],
   "source": [
    "vector_column"
   ]
  },
  {
   "cell_type": "markdown",
   "id": "1d828b9f-a6bc-4f1c-bd2b-781b3b8e0d3e",
   "metadata": {},
   "source": [
    "## 2. Creating a Matrix"
   ]
  },
  {
   "cell_type": "code",
   "execution_count": 5,
   "id": "d3b6c318-ff74-408e-8a3f-b548cbb93204",
   "metadata": {},
   "outputs": [],
   "source": [
    "matrix = np.array([[1, 2, 3], [4, 5, 5]])"
   ]
  },
  {
   "cell_type": "code",
   "execution_count": 6,
   "id": "b986342c-9321-40cc-9ab0-9960d8b3b328",
   "metadata": {},
   "outputs": [
    {
     "data": {
      "text/plain": [
       "array([[1, 2, 3],\n",
       "       [4, 5, 5]])"
      ]
     },
     "execution_count": 6,
     "metadata": {},
     "output_type": "execute_result"
    }
   ],
   "source": [
    "matrix"
   ]
  },
  {
   "cell_type": "markdown",
   "id": "d8ccae6b-7ef8-482e-8a6e-7b65087b4a5c",
   "metadata": {},
   "source": [
    "## 3. Creating a Sparse Matrxi\n",
    "Given data with very few non zero values you want to respresent efficently represent it"
   ]
  },
  {
   "cell_type": "code",
   "execution_count": 7,
   "id": "7f55db1e-2ed6-4eef-a7dd-9aed2c9239ad",
   "metadata": {},
   "outputs": [],
   "source": [
    "# create a matrxi\n",
    "matrxi = np.array([[0, 0], [0, 1], [3, 0]])\n",
    "\n",
    "# create a compresed sparse row (CSR) matrix\n",
    "# matrxi_sparse = sparse.csr_matrxi(matrxi)"
   ]
  },
  {
   "cell_type": "markdown",
   "id": "61ef3d2b-2163-4337-ba21-fa80ae38c93d",
   "metadata": {},
   "source": [
    "## 4. Selecting Elements"
   ]
  },
  {
   "cell_type": "code",
   "execution_count": 8,
   "id": "c02a495c-ccd7-4fb3-b571-e27fe9108280",
   "metadata": {},
   "outputs": [
    {
     "name": "stdout",
     "output_type": "stream",
     "text": [
      "3\n",
      "6\n",
      "[[1 2 3]\n",
      " [4 5 5]]\n",
      "[1 2]\n",
      "[[1 2]\n",
      " [4 5]]\n"
     ]
    }
   ],
   "source": [
    "vector_row = np.array([1, 2, 3, 4])\n",
    "matrxi = np.array([[1, 2, 3], [4, 5, 6], [7, 8, 9]])\n",
    "\n",
    "# selectig 3rd element of vector\n",
    "print(vector_row[2])\n",
    "\n",
    "# selecting 2nd row and 3rd column of matrxi\n",
    "print(matrxi[1, 2])\n",
    "\n",
    "# selecting all element of a vector\n",
    "print(matrix[:])\n",
    "\n",
    "# selecting everything upto and including the 3rd element\n",
    "print(vector_row[:2])\n",
    "\n",
    "# selecting upto 2nd row and 2nd element in each row\n",
    "print(matrix[:2, :2])"
   ]
  },
  {
   "cell_type": "code",
   "execution_count": 9,
   "id": "7731aa89-54ef-40ea-ab00-b1a0afd8f53a",
   "metadata": {},
   "outputs": [
    {
     "name": "stdout",
     "output_type": "stream",
     "text": [
      "[4]\n",
      "4\n",
      "[[1 2 3]\n",
      " [4 5 5]]\n",
      "[[2]\n",
      " [5]]\n"
     ]
    }
   ],
   "source": [
    "# selecting everything after 3rd element \n",
    "print(vector_row[3:])\n",
    "\n",
    "# select last element \n",
    "print(vector_row[-1])\n",
    "\n",
    "# select the first 2 rows and all the columns of the matrix \n",
    "print(matrix[:2, :])\n",
    "\n",
    "# selecting all rows and the 2nd column of the matrix \n",
    "print(matrix[:, 1:2])"
   ]
  },
  {
   "cell_type": "markdown",
   "id": "21dfac31-1906-40e0-bb98-ab2961de0416",
   "metadata": {},
   "source": [
    "## 5. Describing a matrix"
   ]
  },
  {
   "cell_type": "code",
   "execution_count": 10,
   "id": "6479d56c-8689-486a-929d-575c2fcf6dd8",
   "metadata": {},
   "outputs": [
    {
     "name": "stdout",
     "output_type": "stream",
     "text": [
      "(2, 3)\n"
     ]
    }
   ],
   "source": [
    "# view number of rows and columns of matrix\n",
    "print(matrix.shape)"
   ]
  },
  {
   "cell_type": "code",
   "execution_count": 11,
   "id": "e82d349c-6875-4f89-b7f5-6799b06b332c",
   "metadata": {},
   "outputs": [
    {
     "data": {
      "text/plain": [
       "6"
      ]
     },
     "execution_count": 11,
     "metadata": {},
     "output_type": "execute_result"
    }
   ],
   "source": [
    "# view size of matrix =  rows * cloumn\n",
    "matrix.size"
   ]
  },
  {
   "cell_type": "code",
   "execution_count": 12,
   "id": "acce741b-768f-4bbe-9644-ebda9d61392f",
   "metadata": {},
   "outputs": [
    {
     "data": {
      "text/plain": [
       "2"
      ]
     },
     "execution_count": 12,
     "metadata": {},
     "output_type": "execute_result"
    }
   ],
   "source": [
    "# view dimensions of matrix\n",
    "matrix.ndim"
   ]
  },
  {
   "cell_type": "markdown",
   "id": "6df851c5-55f1-4c20-a70e-9825a35cc07f",
   "metadata": {},
   "source": [
    "## 6. Applying operations to elements \n",
    "applying some function to multiple elements in an array"
   ]
  },
  {
   "cell_type": "code",
   "execution_count": 13,
   "id": "bcc79796-7f6f-4388-b732-c115514b3e0d",
   "metadata": {},
   "outputs": [],
   "source": [
    "matrxi = np.array([[1, 2, 3, 4], [3, 4, 5, 6], [7, 8, 9, 10]])"
   ]
  },
  {
   "cell_type": "code",
   "execution_count": 14,
   "id": "b7cf267c-28e0-427f-8b85-b384578fa881",
   "metadata": {},
   "outputs": [],
   "source": [
    "# creating a lambda function \n",
    "lambda_function = lambda i: i +100"
   ]
  },
  {
   "cell_type": "code",
   "execution_count": 15,
   "id": "9e6e1e84-f78c-4fb5-aba5-fdea34dc8391",
   "metadata": {},
   "outputs": [],
   "source": [
    "# convert it into vectorize funtion\n",
    "vectorize_function = np.vectorize(lambda_function)"
   ]
  },
  {
   "cell_type": "code",
   "execution_count": 16,
   "id": "c431498a-df00-406b-bbbd-bfddb0892da9",
   "metadata": {},
   "outputs": [
    {
     "data": {
      "text/plain": [
       "array([[101, 102, 103],\n",
       "       [104, 105, 105]])"
      ]
     },
     "execution_count": 16,
     "metadata": {},
     "output_type": "execute_result"
    }
   ],
   "source": [
    "# apply funtions to all elements in matri\n",
    "vectorize_function(matrix)\n"
   ]
  },
  {
   "cell_type": "markdown",
   "id": "79db5780-6f49-4bef-9fa0-fa35b87d3c7e",
   "metadata": {},
   "source": [
    "## 7. Finding Max and Min Values"
   ]
  },
  {
   "cell_type": "code",
   "execution_count": 17,
   "id": "410610d4-2c1b-4957-b622-c6b4a1dc5971",
   "metadata": {},
   "outputs": [
    {
     "data": {
      "text/plain": [
       "5"
      ]
     },
     "execution_count": 17,
     "metadata": {},
     "output_type": "execute_result"
    }
   ],
   "source": [
    "np.max(matrix)"
   ]
  },
  {
   "cell_type": "code",
   "execution_count": 18,
   "id": "e160f821-9826-4ae4-94dd-2d506b3cbf11",
   "metadata": {},
   "outputs": [
    {
     "data": {
      "text/plain": [
       "1"
      ]
     },
     "execution_count": 18,
     "metadata": {},
     "output_type": "execute_result"
    }
   ],
   "source": [
    "np.min(matrix)"
   ]
  },
  {
   "cell_type": "code",
   "execution_count": 19,
   "id": "fd610b72-ce5d-4d38-8af4-7e324f665398",
   "metadata": {},
   "outputs": [
    {
     "data": {
      "text/plain": [
       "array([4, 5, 5])"
      ]
     },
     "execution_count": 19,
     "metadata": {},
     "output_type": "execute_result"
    }
   ],
   "source": [
    "# find max element in each column\n",
    "np.max(matrix, axis = 0)"
   ]
  },
  {
   "cell_type": "code",
   "execution_count": 20,
   "id": "82b1638d-572a-487d-9570-86dac54d626e",
   "metadata": {},
   "outputs": [
    {
     "data": {
      "text/plain": [
       "array([3, 5])"
      ]
     },
     "execution_count": 20,
     "metadata": {},
     "output_type": "execute_result"
    }
   ],
   "source": [
    "# find max element in each row\n",
    "np.max(matrix, axis = 1)"
   ]
  },
  {
   "cell_type": "markdown",
   "id": "b49c0e73-8949-4d9c-9c1b-9b27ea12a35f",
   "metadata": {},
   "source": []
  },
  {
   "cell_type": "markdown",
   "id": "c12454e6-0596-4627-9666-096efb1aa130",
   "metadata": {},
   "source": [
    "## 8. Calculating Average,Varrience and Standard Devation"
   ]
  },
  {
   "cell_type": "code",
   "execution_count": 21,
   "id": "f4cd25ff-045e-460e-891b-bb3ae91cf40a",
   "metadata": {},
   "outputs": [
    {
     "data": {
      "text/plain": [
       "3.3333333333333335"
      ]
     },
     "execution_count": 21,
     "metadata": {},
     "output_type": "execute_result"
    }
   ],
   "source": [
    "# mean\n",
    "np.mean(matrix)"
   ]
  },
  {
   "cell_type": "code",
   "execution_count": 22,
   "id": "47250e4f-ec1b-4924-a531-9aab5d9b1af9",
   "metadata": {},
   "outputs": [
    {
     "data": {
      "text/plain": [
       "1.4907119849998598"
      ]
     },
     "execution_count": 22,
     "metadata": {},
     "output_type": "execute_result"
    }
   ],
   "source": [
    "# standard devation\n",
    "np.std(matrix)"
   ]
  },
  {
   "cell_type": "code",
   "execution_count": 23,
   "id": "f424922f-086e-4a87-b856-2b7dfea026e0",
   "metadata": {},
   "outputs": [
    {
     "data": {
      "text/plain": [
       "2.2222222222222223"
      ]
     },
     "execution_count": 23,
     "metadata": {},
     "output_type": "execute_result"
    }
   ],
   "source": [
    "# Varience\n",
    "np.var(matrix)"
   ]
  },
  {
   "cell_type": "markdown",
   "id": "112ed758-d2e7-49b7-ac76-9e005e6b101e",
   "metadata": {},
   "source": [
    "## 9. Reshaping Arrays"
   ]
  },
  {
   "cell_type": "code",
   "execution_count": 24,
   "id": "89d36c91-2e53-4fd3-948e-5f3a711da2ee",
   "metadata": {},
   "outputs": [],
   "source": [
    "new_matrix = np.array([[1, 2, 3, 4], [4, 5, 6, 7], [7, 8, 9, 10]])"
   ]
  },
  {
   "cell_type": "code",
   "execution_count": 25,
   "id": "604153ff-1515-4c9e-acc3-b1192be0b2af",
   "metadata": {},
   "outputs": [
    {
     "data": {
      "text/plain": [
       "array([[ 1,  2],\n",
       "       [ 3,  4],\n",
       "       [ 4,  5],\n",
       "       [ 6,  7],\n",
       "       [ 7,  8],\n",
       "       [ 9, 10]])"
      ]
     },
     "execution_count": 25,
     "metadata": {},
     "output_type": "execute_result"
    }
   ],
   "source": [
    "new_matrix.reshape(6, 2)"
   ]
  },
  {
   "cell_type": "code",
   "execution_count": 26,
   "id": "3b862fe3-057d-4a93-a633-4f3f1992ad01",
   "metadata": {},
   "outputs": [
    {
     "data": {
      "text/plain": [
       "array([[ 1,  2,  3,  4,  4,  5],\n",
       "       [ 6,  7,  7,  8,  9, 10]])"
      ]
     },
     "execution_count": 26,
     "metadata": {},
     "output_type": "execute_result"
    }
   ],
   "source": [
    "# here -1 says as many colmn as needed and 1 row\n",
    "new_matrix.reshape(2, -1)"
   ]
  },
  {
   "cell_type": "code",
   "execution_count": 27,
   "id": "3854e260-10e2-4abf-bf81-504f2251587d",
   "metadata": {},
   "outputs": [
    {
     "data": {
      "text/plain": [
       "array([[ 1,  2,  3],\n",
       "       [ 4,  4,  5],\n",
       "       [ 6,  7,  7],\n",
       "       [ 8,  9, 10]])"
      ]
     },
     "execution_count": 27,
     "metadata": {},
     "output_type": "execute_result"
    }
   ],
   "source": [
    "new_matrix.reshape(4, -1)"
   ]
  },
  {
   "cell_type": "code",
   "execution_count": 28,
   "id": "31f8fb55-7d5d-40ed-a916-ce81b2a8ca98",
   "metadata": {},
   "outputs": [
    {
     "data": {
      "text/plain": [
       "array([ 1,  2,  3,  4,  4,  5,  6,  7,  7,  8,  9, 10])"
      ]
     },
     "execution_count": 28,
     "metadata": {},
     "output_type": "execute_result"
    }
   ],
   "source": [
    "# if only one argument is given a 1-d array of that length will be created\n",
    "new_matrix.reshape(12)"
   ]
  },
  {
   "cell_type": "code",
   "execution_count": 29,
   "id": "f1f1ba5d-447b-4e5c-80c9-2b6a523994fc",
   "metadata": {},
   "outputs": [
    {
     "data": {
      "text/plain": [
       "array([ 1,  2,  3,  4,  4,  5,  6,  7,  7,  8,  9, 10])"
      ]
     },
     "execution_count": 29,
     "metadata": {},
     "output_type": "execute_result"
    }
   ],
   "source": [
    "# flatten method can also used to create 1-d array of given matrix\n",
    "new_matrix.flatten()"
   ]
  },
  {
   "cell_type": "markdown",
   "id": "5a0006fe-d4a6-4011-b2ad-1edba9550e00",
   "metadata": {},
   "source": [
    "## 10. Transposing a vector or matrix"
   ]
  },
  {
   "cell_type": "code",
   "execution_count": 30,
   "id": "5cfb24ae-701a-4e1a-81f4-2ec1cf35d3be",
   "metadata": {},
   "outputs": [
    {
     "data": {
      "text/plain": [
       "array([[ 1,  4,  7],\n",
       "       [ 2,  5,  8],\n",
       "       [ 3,  6,  9],\n",
       "       [ 4,  7, 10]])"
      ]
     },
     "execution_count": 30,
     "metadata": {},
     "output_type": "execute_result"
    }
   ],
   "source": [
    "new_matrix.T"
   ]
  },
  {
   "cell_type": "markdown",
   "id": "3546e46b-4110-4697-976a-3cb758ec7c75",
   "metadata": {},
   "source": [
    "### 11. Finding the Determinant and Rank of a Matrix\n",
    "The rank of a Matrix is the number of dimension of the vecor space spanned by its row or column"
   ]
  },
  {
   "cell_type": "code",
   "execution_count": 31,
   "id": "a8806235-6ae1-4bf8-9c08-9e6cb3e3de45",
   "metadata": {},
   "outputs": [
    {
     "data": {
      "text/plain": [
       "0.0"
      ]
     },
     "execution_count": 31,
     "metadata": {},
     "output_type": "execute_result"
    }
   ],
   "source": [
    "# calculating determinant\n",
    "new_matrix = np.array([[2, 4, 6], [3, 6, 9], [2, 3, 5]])\n",
    "np.linalg.det(new_matrix)"
   ]
  },
  {
   "cell_type": "code",
   "execution_count": 32,
   "id": "a7cc447b-4d20-41de-b970-b3985ffedf83",
   "metadata": {},
   "outputs": [
    {
     "data": {
      "text/plain": [
       "2"
      ]
     },
     "execution_count": 32,
     "metadata": {},
     "output_type": "execute_result"
    }
   ],
   "source": [
    "# calculating the rank of matrix\n",
    "np.linalg.matrix_rank(new_matrix)"
   ]
  },
  {
   "cell_type": "markdown",
   "id": "3631acab-d1ef-4dfc-8b54-ee9a3ccdd0aa",
   "metadata": {},
   "source": [
    "## 12. Getting the Diagonal of a Matrix"
   ]
  },
  {
   "cell_type": "code",
   "execution_count": 33,
   "id": "30e64538-37e6-470a-88c6-84ee4e0c111b",
   "metadata": {},
   "outputs": [
    {
     "data": {
      "text/plain": [
       "array([2, 6, 5])"
      ]
     },
     "execution_count": 33,
     "metadata": {},
     "output_type": "execute_result"
    }
   ],
   "source": [
    "# print the principal diagnol \n",
    "new_matrix.diagonal()"
   ]
  },
  {
   "cell_type": "code",
   "execution_count": 34,
   "id": "7243595b-75da-4b6b-b413-bd3f4c23f19c",
   "metadata": {},
   "outputs": [
    {
     "data": {
      "text/plain": [
       "array([2, 5])"
      ]
     },
     "execution_count": 34,
     "metadata": {},
     "output_type": "execute_result"
    }
   ],
   "source": [
    "# print the diagnol one above the principal diagonal\n",
    "matrix.diagonal(offset = 1)"
   ]
  },
  {
   "cell_type": "code",
   "execution_count": 35,
   "id": "f0041885-1c19-40e0-b46a-5d3834910122",
   "metadata": {},
   "outputs": [
    {
     "data": {
      "text/plain": [
       "array([4])"
      ]
     },
     "execution_count": 35,
     "metadata": {},
     "output_type": "execute_result"
    }
   ],
   "source": [
    "# print the diagonal one below the principal diagonal\n",
    "matrix.diagonal(offset = -1)"
   ]
  },
  {
   "cell_type": "markdown",
   "id": "3ecbaf9b-79cf-4ac6-8abe-0a3397d993a8",
   "metadata": {},
   "source": [
    "## 13. Calculate the trace of the matrix\n",
    "Trace of a matrix is the sum of elements on the principal diagonal of the matrix  "
   ]
  },
  {
   "cell_type": "code",
   "execution_count": 36,
   "id": "96d5cec8-1200-42dc-b661-c5d90c3c1a50",
   "metadata": {},
   "outputs": [
    {
     "data": {
      "text/plain": [
       "6"
      ]
     },
     "execution_count": 36,
     "metadata": {},
     "output_type": "execute_result"
    }
   ],
   "source": [
    "matrix.trace()"
   ]
  },
  {
   "cell_type": "markdown",
   "id": "2a5f128a-b2e5-480a-8722-d3c5d25b5ce0",
   "metadata": {},
   "source": [
    "## Finding Eigenvalues and Eignevectors\n",
    "Eigenvalues are widely used in machine learning libraries. Intituatively given a linear transformation represnented by a matrix. A, eigenvectors are vectors that when that transformation is applied, change only in scale(not direction).More formally\n",
    "**Av=Kv**\n",
    "Here A is a square matrix, K contains the eigenvalues and v contains the eigenvectors.  "
   ]
  },
  {
   "cell_type": "code",
   "execution_count": 37,
   "id": "54bc9ec7-f960-4125-a414-1d132d542f4d",
   "metadata": {},
   "outputs": [],
   "source": [
    "eigenvalues, eigenvectors = np.linalg.eig(new_matrix) "
   ]
  },
  {
   "cell_type": "code",
   "execution_count": 38,
   "id": "31512c5a-6cfd-4b61-b035-8a8830f61016",
   "metadata": {},
   "outputs": [
    {
     "data": {
      "text/plain": [
       "array([1.29226163e+01, 7.90138490e-15, 7.73837107e-02])"
      ]
     },
     "execution_count": 38,
     "metadata": {},
     "output_type": "execute_result"
    }
   ],
   "source": [
    "eigenvalues"
   ]
  },
  {
   "cell_type": "code",
   "execution_count": 39,
   "id": "f8743aed-6d95-4a26-910e-02362576dac6",
   "metadata": {},
   "outputs": [
    {
     "data": {
      "text/plain": [
       "array([[ 0.50487569,  0.57735027, -0.44750227],\n",
       "       [ 0.75731354,  0.57735027, -0.6712534 ],\n",
       "       [ 0.41421822, -0.57735027,  0.59089812]])"
      ]
     },
     "execution_count": 39,
     "metadata": {},
     "output_type": "execute_result"
    }
   ],
   "source": [
    "eigenvectors"
   ]
  },
  {
   "cell_type": "markdown",
   "id": "5f6a32db-0f5b-4801-8db8-42abb4f0e0f3",
   "metadata": {},
   "source": [
    "## 15. calculating dot products"
   ]
  },
  {
   "cell_type": "code",
   "execution_count": 40,
   "id": "2624aaac-f5f0-49c6-b4ab-5a9899954ade",
   "metadata": {},
   "outputs": [],
   "source": [
    "vector_one = np.array([1, 2, 3])\n",
    "vector_two = np.array([3, 6, 9])"
   ]
  },
  {
   "cell_type": "code",
   "execution_count": 41,
   "id": "29d6a8a4-1011-49c8-8f6b-6236951cfd29",
   "metadata": {},
   "outputs": [
    {
     "data": {
      "text/plain": [
       "42"
      ]
     },
     "execution_count": 41,
     "metadata": {},
     "output_type": "execute_result"
    }
   ],
   "source": [
    "np.dot(vector_one, vector_two)"
   ]
  },
  {
   "cell_type": "code",
   "execution_count": 42,
   "id": "ec30b49d-7959-4503-bd2a-0209c838661f",
   "metadata": {},
   "outputs": [
    {
     "data": {
      "text/plain": [
       "42"
      ]
     },
     "execution_count": 42,
     "metadata": {},
     "output_type": "execute_result"
    }
   ],
   "source": [
    "vector_one @ vector_two"
   ]
  },
  {
   "cell_type": "markdown",
   "id": "1379ed60-7865-4b8d-b4b6-b118f7590184",
   "metadata": {},
   "source": [
    "## 16. Adding Subtracting and Multiplying Matrices"
   ]
  },
  {
   "cell_type": "code",
   "execution_count": 43,
   "id": "ab795f70-c576-4b38-ae02-df37a21c6386",
   "metadata": {},
   "outputs": [],
   "source": [
    "matrix_1 = np.array([[1, 2, 3], [4, 5, 6]])\n",
    "matrix_2 = np.array([[6, 7, 8], [9, 10, 11]])"
   ]
  },
  {
   "cell_type": "code",
   "execution_count": 44,
   "id": "d94325aa-fbc5-4e78-834f-d1cd6faf2795",
   "metadata": {},
   "outputs": [
    {
     "data": {
      "text/plain": [
       "array([[ 7,  9, 11],\n",
       "       [13, 15, 17]])"
      ]
     },
     "execution_count": 44,
     "metadata": {},
     "output_type": "execute_result"
    }
   ],
   "source": [
    "np.add(matrix_1, matrix_2)"
   ]
  },
  {
   "cell_type": "code",
   "execution_count": 45,
   "id": "22592da4-a595-461d-88c4-0803537be98d",
   "metadata": {},
   "outputs": [
    {
     "data": {
      "text/plain": [
       "array([[-5, -5, -5],\n",
       "       [-5, -5, -5]])"
      ]
     },
     "execution_count": 45,
     "metadata": {},
     "output_type": "execute_result"
    }
   ],
   "source": [
    "np.subtract(matrix_1, matrix_2)"
   ]
  },
  {
   "cell_type": "code",
   "execution_count": 46,
   "id": "dc830b03-02a4-4c3f-a5b4-684738bf2d50",
   "metadata": {},
   "outputs": [
    {
     "data": {
      "text/plain": [
       "array([[ 6, 14, 24],\n",
       "       [36, 50, 66]])"
      ]
     },
     "execution_count": 46,
     "metadata": {},
     "output_type": "execute_result"
    }
   ],
   "source": [
    "matrix_1 * matrix_2"
   ]
  },
  {
   "cell_type": "markdown",
   "id": "d0b34624-6484-4183-97bb-e0aa5adb0661",
   "metadata": {},
   "source": [
    "## 17. Inverting a Squar Matrix\n",
    "Inverse of a squar matrix"
   ]
  },
  {
   "cell_type": "code",
   "execution_count": 47,
   "id": "b613c4d4-8913-4baa-b11c-7c3ea898a2c2",
   "metadata": {},
   "outputs": [
    {
     "data": {
      "text/plain": [
       "array([[-2. ,  1. ],\n",
       "       [ 1.5, -0.5]])"
      ]
     },
     "execution_count": 47,
     "metadata": {},
     "output_type": "execute_result"
    }
   ],
   "source": [
    "matrix = np.array([[1, 2], [3, 4]])\n",
    "np.linalg.inv(matrix)"
   ]
  },
  {
   "cell_type": "markdown",
   "id": "2bf09092-0f25-49f7-b73f-87b70793bab7",
   "metadata": {},
   "source": [
    "## 18. Generating Randome values"
   ]
  },
  {
   "cell_type": "code",
   "execution_count": 48,
   "id": "9c6e8cbb-c43c-466b-8cba-aa8d916db3c4",
   "metadata": {},
   "outputs": [],
   "source": [
    "# set a seed value\n",
    "np.random.seed(1)"
   ]
  },
  {
   "cell_type": "code",
   "execution_count": 49,
   "id": "7549034b-d1f0-40aa-a96e-364f9afee056",
   "metadata": {},
   "outputs": [
    {
     "data": {
      "text/plain": [
       "array([5, 8, 9])"
      ]
     },
     "execution_count": 49,
     "metadata": {},
     "output_type": "execute_result"
    }
   ],
   "source": [
    "# generating 3 random integers between 1 and 10\n",
    "np.random.randint(0, 11, 3)"
   ]
  },
  {
   "cell_type": "code",
   "execution_count": 50,
   "id": "236dd097-3d48-4b01-83f9-7723db0057dc",
   "metadata": {},
   "outputs": [
    {
     "data": {
      "text/plain": [
       "array([-0.60434568,  0.10224438, -1.21187015])"
      ]
     },
     "execution_count": 50,
     "metadata": {},
     "output_type": "execute_result"
    }
   ],
   "source": [
    "# draw 3 numbers from a normal distribution with mean 1.0 and std 2.0\n",
    "np.random.normal(1.0, 2.0, 3)"
   ]
  },
  {
   "cell_type": "code",
   "execution_count": null,
   "id": "e491b594-d203-4fd2-8030-bd4ade0c8883",
   "metadata": {},
   "outputs": [],
   "source": []
  }
 ],
 "metadata": {
  "kernelspec": {
   "display_name": "Python 3 (ipykernel)",
   "language": "python",
   "name": "python3"
  },
  "language_info": {
   "codemirror_mode": {
    "name": "ipython",
    "version": 3
   },
   "file_extension": ".py",
   "mimetype": "text/x-python",
   "name": "python",
   "nbconvert_exporter": "python",
   "pygments_lexer": "ipython3",
   "version": "3.9.5"
  }
 },
 "nbformat": 4,
 "nbformat_minor": 5
}
