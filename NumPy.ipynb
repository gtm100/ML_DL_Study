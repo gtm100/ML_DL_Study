{
 "cells": [
  {
   "cell_type": "markdown",
   "id": "eb220c13-4c99-4a6e-b74a-776fe64e6920",
   "metadata": {},
   "source": [
    "# Basic of Numpy"
   ]
  },
  {
   "cell_type": "code",
   "execution_count": 1,
   "id": "4c9d3575-b531-41da-ad03-8607b247e63e",
   "metadata": {},
   "outputs": [],
   "source": [
    "import numpy as np"
   ]
  },
  {
   "cell_type": "markdown",
   "id": "4033d104-5c02-4d36-ac70-03d4d081d076",
   "metadata": {},
   "source": [
    "### Creating numpy array\n"
   ]
  },
  {
   "cell_type": "code",
   "execution_count": 2,
   "id": "19351ccd-7d9c-4784-af6e-77429b20057c",
   "metadata": {},
   "outputs": [],
   "source": [
    "new_array = np.array([1, 2, 3])"
   ]
  },
  {
   "cell_type": "code",
   "execution_count": 3,
   "id": "2b020642-0407-49e7-8950-e1f9af7e7527",
   "metadata": {},
   "outputs": [
    {
     "data": {
      "text/plain": [
       "array([1, 2, 3])"
      ]
     },
     "execution_count": 3,
     "metadata": {},
     "output_type": "execute_result"
    }
   ],
   "source": [
    "new_array"
   ]
  },
  {
   "cell_type": "markdown",
   "id": "f5f26520-30fc-4a22-946b-592502d18804",
   "metadata": {},
   "source": [
    "### Check the shape of np array"
   ]
  },
  {
   "cell_type": "code",
   "execution_count": 4,
   "id": "eaf52f55-f392-4954-abfc-51072faa92d8",
   "metadata": {},
   "outputs": [
    {
     "data": {
      "text/plain": [
       "(3,)"
      ]
     },
     "execution_count": 4,
     "metadata": {},
     "output_type": "execute_result"
    }
   ],
   "source": [
    "new_array.shape"
   ]
  },
  {
   "cell_type": "markdown",
   "id": "83b13e10-0977-4e2f-b38b-5059300201d3",
   "metadata": {},
   "source": [
    "### Get Dimentions of np array"
   ]
  },
  {
   "cell_type": "code",
   "execution_count": 5,
   "id": "60983a5c-8c27-493b-9fbc-f6664b657e46",
   "metadata": {},
   "outputs": [
    {
     "data": {
      "text/plain": [
       "1"
      ]
     },
     "execution_count": 5,
     "metadata": {},
     "output_type": "execute_result"
    }
   ],
   "source": [
    "new_array.ndim"
   ]
  },
  {
   "cell_type": "markdown",
   "id": "05a9cac6-64fd-4783-95f7-4a3a025ca452",
   "metadata": {},
   "source": [
    "### NumPy love math"
   ]
  },
  {
   "cell_type": "code",
   "execution_count": 6,
   "id": "3bd632e6-e35d-47d3-855b-fcb0a4dc1dee",
   "metadata": {},
   "outputs": [
    {
     "data": {
      "text/plain": [
       "array([1.        , 1.41421356, 1.73205081])"
      ]
     },
     "execution_count": 6,
     "metadata": {},
     "output_type": "execute_result"
    }
   ],
   "source": [
    "np.sqrt(new_array)"
   ]
  },
  {
   "cell_type": "code",
   "execution_count": 7,
   "id": "697aa4f6-29ea-438d-9241-c39d431ffaa0",
   "metadata": {},
   "outputs": [
    {
     "data": {
      "text/plain": [
       "array([0.        , 0.69314718, 1.09861229])"
      ]
     },
     "execution_count": 7,
     "metadata": {},
     "output_type": "execute_result"
    }
   ],
   "source": [
    "np.log(new_array)"
   ]
  },
  {
   "cell_type": "code",
   "execution_count": 8,
   "id": "78940ba7-6bc1-4a30-b00a-6180081047d5",
   "metadata": {},
   "outputs": [
    {
     "data": {
      "text/plain": [
       "array([ 2.71828183,  7.3890561 , 20.08553692])"
      ]
     },
     "execution_count": 8,
     "metadata": {},
     "output_type": "execute_result"
    }
   ],
   "source": [
    "np.exp(new_array)"
   ]
  },
  {
   "cell_type": "code",
   "execution_count": 9,
   "id": "6bfba344-87f0-47f8-8c93-516d3812d3f2",
   "metadata": {},
   "outputs": [
    {
     "data": {
      "text/plain": [
       "array([0.76159416, 0.96402758, 0.99505475])"
      ]
     },
     "execution_count": 9,
     "metadata": {},
     "output_type": "execute_result"
    }
   ],
   "source": [
    "np.tanh(new_array)"
   ]
  },
  {
   "cell_type": "markdown",
   "id": "b23472db-2ea3-4028-b570-7f7ddbfe5054",
   "metadata": {},
   "source": [
    "### Linear Algebra"
   ]
  },
  {
   "cell_type": "code",
   "execution_count": 11,
   "id": "602eb3f7-2382-474d-ac3e-02ce1290bbc6",
   "metadata": {},
   "outputs": [
    {
     "data": {
      "text/plain": [
       "3.7416573867739413"
      ]
     },
     "execution_count": 11,
     "metadata": {},
     "output_type": "execute_result"
    }
   ],
   "source": [
    "np.linalg.norm(new_array)"
   ]
  },
  {
   "cell_type": "markdown",
   "id": "b2ab091e-30dd-4e19-8b90-994ecf8ae2d1",
   "metadata": {},
   "source": [
    "### Broadcasting"
   ]
  },
  {
   "cell_type": "code",
   "execution_count": 12,
   "id": "f729c25e-c348-42a2-90d1-03c8ab03ce6e",
   "metadata": {},
   "outputs": [],
   "source": [
    "x = np.ones((2, 2))\n",
    "y = np.ones((3, 2, 1))"
   ]
  },
  {
   "cell_type": "code",
   "execution_count": 13,
   "id": "4b7c9856-7e2b-4c54-be6e-977d78c05635",
   "metadata": {},
   "outputs": [
    {
     "data": {
      "text/plain": [
       "array([[1., 1.],\n",
       "       [1., 1.]])"
      ]
     },
     "execution_count": 13,
     "metadata": {},
     "output_type": "execute_result"
    }
   ],
   "source": [
    "x"
   ]
  },
  {
   "cell_type": "code",
   "execution_count": 14,
   "id": "2be4ce27-7d4b-4635-b1dd-70eebf13f641",
   "metadata": {},
   "outputs": [
    {
     "data": {
      "text/plain": [
       "array([[[1.],\n",
       "        [1.]],\n",
       "\n",
       "       [[1.],\n",
       "        [1.]],\n",
       "\n",
       "       [[1.],\n",
       "        [1.]]])"
      ]
     },
     "execution_count": 14,
     "metadata": {},
     "output_type": "execute_result"
    }
   ],
   "source": [
    "y"
   ]
  },
  {
   "cell_type": "code",
   "execution_count": 15,
   "id": "197c81b3-50b6-47c9-8b9d-4bc1edf20c12",
   "metadata": {},
   "outputs": [
    {
     "data": {
      "text/plain": [
       "array([[[2., 2.],\n",
       "        [2., 2.]],\n",
       "\n",
       "       [[2., 2.],\n",
       "        [2., 2.]],\n",
       "\n",
       "       [[2., 2.],\n",
       "        [2., 2.]]])"
      ]
     },
     "execution_count": 15,
     "metadata": {},
     "output_type": "execute_result"
    }
   ],
   "source": [
    "x + y"
   ]
  },
  {
   "cell_type": "markdown",
   "id": "0d016c18-e94a-4b19-b054-b68c2d60c608",
   "metadata": {},
   "source": [
    "#### NumPy and matrices"
   ]
  },
  {
   "cell_type": "code",
   "execution_count": 16,
   "id": "9af7c469-18c4-41a5-bf7c-74acd1f06da2",
   "metadata": {},
   "outputs": [],
   "source": [
    "x = np.array([[1, 2], [3, 4]])\n",
    "y = np.array([[4, 5], [6, 7]])"
   ]
  },
  {
   "cell_type": "code",
   "execution_count": 17,
   "id": "d9ea25c5-6fb7-4f6b-84b3-e7e92e58e9aa",
   "metadata": {},
   "outputs": [
    {
     "data": {
      "text/plain": [
       "array([[16, 19],\n",
       "       [36, 43]])"
      ]
     },
     "execution_count": 17,
     "metadata": {},
     "output_type": "execute_result"
    }
   ],
   "source": [
    "x.dot(y)"
   ]
  },
  {
   "cell_type": "code",
   "execution_count": 18,
   "id": "e563efe3-611b-441b-8e86-ceb9cb686b47",
   "metadata": {},
   "outputs": [
    {
     "data": {
      "text/plain": [
       "array([[16, 19],\n",
       "       [36, 43]])"
      ]
     },
     "execution_count": 18,
     "metadata": {},
     "output_type": "execute_result"
    }
   ],
   "source": [
    "x @ y"
   ]
  },
  {
   "cell_type": "markdown",
   "id": "946ae7f5-ac25-45c0-a4ae-61556a977ae2",
   "metadata": {},
   "source": [
    "### Inverse and transpose"
   ]
  },
  {
   "cell_type": "code",
   "execution_count": 19,
   "id": "7c78b4e4-ee56-4f7d-a97f-e30f3d1aea27",
   "metadata": {},
   "outputs": [
    {
     "data": {
      "text/plain": [
       "array([[-2. ,  1. ],\n",
       "       [ 1.5, -0.5]])"
      ]
     },
     "execution_count": 19,
     "metadata": {},
     "output_type": "execute_result"
    }
   ],
   "source": [
    "np.linalg.inv(x)"
   ]
  },
  {
   "cell_type": "code",
   "execution_count": 20,
   "id": "2920c1ca-4eb0-4b9d-9239-5ba39c854f64",
   "metadata": {},
   "outputs": [
    {
     "data": {
      "text/plain": [
       "array([[1, 3],\n",
       "       [2, 4]])"
      ]
     },
     "execution_count": 20,
     "metadata": {},
     "output_type": "execute_result"
    }
   ],
   "source": [
    "x.T"
   ]
  },
  {
   "cell_type": "markdown",
   "id": "c85b62cc-20f4-43f5-9591-733267a45dca",
   "metadata": {},
   "source": [
    "### Eigen value and eigen vector"
   ]
  },
  {
   "cell_type": "code",
   "execution_count": 21,
   "id": "dfd5d46c-e4b6-4498-829b-f5460ab70438",
   "metadata": {},
   "outputs": [
    {
     "data": {
      "text/plain": [
       "array([-0.37228132,  5.37228132])"
      ]
     },
     "execution_count": 21,
     "metadata": {},
     "output_type": "execute_result"
    }
   ],
   "source": [
    "np.linalg.eigvals(x)"
   ]
  },
  {
   "cell_type": "markdown",
   "id": "8a8babff-afcb-4a41-926f-88a9c55e03ee",
   "metadata": {},
   "source": [
    "### Changing Shape"
   ]
  },
  {
   "cell_type": "code",
   "execution_count": 22,
   "id": "cbaf70c4-d990-4a6a-91d2-4724599407cd",
   "metadata": {},
   "outputs": [
    {
     "data": {
      "text/plain": [
       "array([[1],\n",
       "       [2],\n",
       "       [3],\n",
       "       [4]])"
      ]
     },
     "execution_count": 22,
     "metadata": {},
     "output_type": "execute_result"
    }
   ],
   "source": [
    "x.reshape(4, 1)"
   ]
  },
  {
   "cell_type": "markdown",
   "id": "89e0d0aa-1001-4f3a-80fa-45b1dc598136",
   "metadata": {},
   "source": [
    "### Flattening"
   ]
  },
  {
   "cell_type": "code",
   "execution_count": 23,
   "id": "67690b0f-da4c-4a9b-a562-5d5afdb6af29",
   "metadata": {},
   "outputs": [
    {
     "data": {
      "text/plain": [
       "array([1, 2, 3, 4])"
      ]
     },
     "execution_count": 23,
     "metadata": {},
     "output_type": "execute_result"
    }
   ],
   "source": [
    "x.flatten()"
   ]
  },
  {
   "cell_type": "code",
   "execution_count": 24,
   "id": "8832a8c1-8196-45a8-9a58-fc5d95755a4c",
   "metadata": {},
   "outputs": [
    {
     "data": {
      "text/plain": [
       "array([1, 2, 3, 4])"
      ]
     },
     "execution_count": 24,
     "metadata": {},
     "output_type": "execute_result"
    }
   ],
   "source": [
    "x_list = [[1, 2], [3, 4]]\n",
    "np.ravel(x_list)"
   ]
  },
  {
   "cell_type": "markdown",
   "id": "f86d0cbc-053f-4538-bb88-8a51abcad30b",
   "metadata": {},
   "source": [
    "### Add new diminsion"
   ]
  },
  {
   "cell_type": "code",
   "execution_count": 25,
   "id": "f3ffc638-c799-428e-b4b6-9b7414ff3b7d",
   "metadata": {},
   "outputs": [
    {
     "data": {
      "text/plain": [
       "array([[1],\n",
       "       [2],\n",
       "       [3],\n",
       "       [4],\n",
       "       [5]])"
      ]
     },
     "execution_count": 25,
     "metadata": {},
     "output_type": "execute_result"
    }
   ],
   "source": [
    "y = np.array([1, 2, 3, 4, 5])\n",
    "y[:, np.newaxis]"
   ]
  },
  {
   "cell_type": "markdown",
   "id": "b14dab82-dbe2-4792-b4ff-e3796a101097",
   "metadata": {},
   "source": [
    "### Split array into new section"
   ]
  },
  {
   "cell_type": "code",
   "execution_count": 26,
   "id": "dc8f9377-61d3-45cc-8dd7-ee2d424c16bd",
   "metadata": {},
   "outputs": [],
   "source": [
    "x =  np.array([0, 1, 2, 3, 4, 5,6, 7, 8])"
   ]
  },
  {
   "cell_type": "code",
   "execution_count": 27,
   "id": "f9559797-1069-43a8-8392-abe9ea2e68fd",
   "metadata": {},
   "outputs": [
    {
     "data": {
      "text/plain": [
       "[array([0, 1, 2]), array([3, 4, 5]), array([6, 7, 8])]"
      ]
     },
     "execution_count": 27,
     "metadata": {},
     "output_type": "execute_result"
    }
   ],
   "source": [
    "np.split(x, 3)"
   ]
  },
  {
   "cell_type": "markdown",
   "id": "b65c8ce2-8f11-4ad9-84f1-677fad7aee30",
   "metadata": {},
   "source": []
  },
  {
   "cell_type": "markdown",
   "id": "110b1129-957a-4e22-aee0-8550cbd4a5ba",
   "metadata": {},
   "source": [
    "### Data generation with numpy"
   ]
  },
  {
   "cell_type": "code",
   "execution_count": 28,
   "id": "82443f0f-453e-4da0-ba35-080dd9b7e39e",
   "metadata": {},
   "outputs": [
    {
     "data": {
      "text/plain": [
       "array([[1., 0., 0., 0., 0.],\n",
       "       [0., 1., 0., 0., 0.],\n",
       "       [0., 0., 1., 0., 0.],\n",
       "       [0., 0., 0., 1., 0.],\n",
       "       [0., 0., 0., 0., 1.]])"
      ]
     },
     "execution_count": 28,
     "metadata": {},
     "output_type": "execute_result"
    }
   ],
   "source": [
    "np.identity(5)"
   ]
  },
  {
   "cell_type": "code",
   "execution_count": 29,
   "id": "7bb2a786-170b-4628-bd82-7d23682c6466",
   "metadata": {},
   "outputs": [
    {
     "data": {
      "text/plain": [
       "array([[0., 0., 0.],\n",
       "       [0., 0., 0.]])"
      ]
     },
     "execution_count": 29,
     "metadata": {},
     "output_type": "execute_result"
    }
   ],
   "source": [
    "np.zeros((2, 3))"
   ]
  },
  {
   "cell_type": "code",
   "execution_count": 30,
   "id": "05f41e14-b35a-49a6-929d-19d1c760d2da",
   "metadata": {},
   "outputs": [
    {
     "data": {
      "text/plain": [
       "array([[1., 1., 1.],\n",
       "       [1., 1., 1.]])"
      ]
     },
     "execution_count": 30,
     "metadata": {},
     "output_type": "execute_result"
    }
   ],
   "source": [
    "np.ones((2, 3))"
   ]
  },
  {
   "cell_type": "code",
   "execution_count": 41,
   "id": "e1b4af90-d35c-4d14-8bb2-f95b5b44bd64",
   "metadata": {},
   "outputs": [
    {
     "data": {
      "text/plain": [
       "array([[0.9304538 , 0.40540704, 0.27532154],\n",
       "       [0.6998769 , 0.55414395, 0.18964909]])"
      ]
     },
     "execution_count": 41,
     "metadata": {},
     "output_type": "execute_result"
    }
   ],
   "source": [
    "np.random.rand(2, 3)"
   ]
  },
  {
   "cell_type": "code",
   "execution_count": 43,
   "id": "57288f2c-3ed0-49ac-95e2-601a04d793ff",
   "metadata": {},
   "outputs": [
    {
     "data": {
      "text/plain": [
       "array([[-0.00483391,  0.5004489 ,  1.09162051],\n",
       "       [-0.27142877, -1.10895607,  1.28577561]])"
      ]
     },
     "execution_count": 43,
     "metadata": {},
     "output_type": "execute_result"
    }
   ],
   "source": [
    "np.random.randn(2, 3)"
   ]
  },
  {
   "cell_type": "code",
   "execution_count": 36,
   "id": "1ff2b235-3826-4b4d-a2ac-5e5aefc12d34",
   "metadata": {},
   "outputs": [
    {
     "data": {
      "text/plain": [
       "array([1, 1, 1, 1, 1, 1, 1, 1, 1])"
      ]
     },
     "execution_count": 36,
     "metadata": {},
     "output_type": "execute_result"
    }
   ],
   "source": [
    "np.ones_like(x)"
   ]
  },
  {
   "cell_type": "code",
   "execution_count": null,
   "id": "611e5418-8aab-474b-8a88-122c9b5125b2",
   "metadata": {},
   "outputs": [],
   "source": []
  }
 ],
 "metadata": {
  "kernelspec": {
   "display_name": "Python 3 (ipykernel)",
   "language": "python",
   "name": "python3"
  },
  "language_info": {
   "codemirror_mode": {
    "name": "ipython",
    "version": 3
   },
   "file_extension": ".py",
   "mimetype": "text/x-python",
   "name": "python",
   "nbconvert_exporter": "python",
   "pygments_lexer": "ipython3",
   "version": "3.9.5"
  }
 },
 "nbformat": 4,
 "nbformat_minor": 5
}
